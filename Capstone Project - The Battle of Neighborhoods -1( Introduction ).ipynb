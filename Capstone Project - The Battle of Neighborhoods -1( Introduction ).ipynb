{
  "nbformat": 4,
  "nbformat_minor": 0,
  "metadata": {
    "colab": {
      "name": "Untitled38.ipynb",
      "provenance": [],
      "authorship_tag": "ABX9TyPuX6HZRHukywPxyTFsqRv2",
      "include_colab_link": true
    },
    "kernelspec": {
      "name": "python3",
      "display_name": "Python 3"
    }
  },
  "cells": [
    {
      "cell_type": "markdown",
      "metadata": {
        "id": "view-in-github",
        "colab_type": "text"
      },
      "source": [
        "<a href=\"https://colab.research.google.com/github/FF12RR77/Applied-Data-Science-Capstone/blob/master/Capstone%20Project%20-%20The%20Battle%20of%20Neighborhoods%20-1(%20Introduction%20).ipynb\" target=\"_parent\"><img src=\"https://colab.research.google.com/assets/colab-badge.svg\" alt=\"Open In Colab\"/></a>"
      ]
    },
    {
      "cell_type": "markdown",
      "metadata": {
        "id": "cgpCvA-MFnRF"
      },
      "source": [
        "\r\n",
        "#Capstone: Find the best neighborhood in Toronto to open a Farmers Market\r\n",
        "\r\n",
        "###Introduction:\r\n",
        "\r\n",
        "The popularity of farmers markets among buyers and, of course, attendance is very high. \r\n",
        "The importance of farmers markets cannot be underestimated.\r\n",
        "An advantages of the farmers market for the citizens over other forms of marketing are:\r\n",
        "\r\n",
        "+ is that they can easily be moved to other areas of the city\r\n",
        "+ real, clean farm food \r\n",
        "+ very fast food delivery to buyers and customers\r\n",
        "+ freshness\r\n",
        "+ wide range of food products and tastes and styles of food, for ex. vegetarian\r\n",
        "+ an individual farmers approach to the creation and cultivation of food products\r\n",
        "+ great opportunities of communication with surrounding people and vendors\r\n",
        "+ the ability to buy food for different segments of the population, also restaurants and cafes\r\n",
        "+ farmers markets help to local economy \r\n",
        "+ sustainable development of course\r\n",
        "\r\n",
        "\r\n",
        "###Audience:\r\n",
        "The farmers market is needed both small wholesale buyers and buyers with small earnings\r\n",
        "such as refugees, newcomers, immigrants and of course the resident citizens.\r\n",
        "\r\n",
        "\r\n",
        "\r\n",
        "###Problem Description:\r\n",
        "\r\n",
        "Which neighborhood should I open farmers market in Toronto for my audience ?\r\n",
        "\r\n",
        "Requirements for farmers market placement:\r\n",
        "\r\n",
        "- the largest number of residents in the neighborhood\r\n",
        "- transport availability\r\n",
        "- citizens with various salaries income\r\n",
        "- delivery options\r\n"
      ]
    }
  ]
}