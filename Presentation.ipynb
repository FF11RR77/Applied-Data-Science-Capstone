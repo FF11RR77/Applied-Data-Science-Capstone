{
  "nbformat": 4,
  "nbformat_minor": 0,
  "metadata": {
    "colab": {
      "name": "Presentation.ipynb",
      "provenance": [],
      "collapsed_sections": [],
      "authorship_tag": "ABX9TyObHUk0P5rUMxGWopDxkgOb",
      "include_colab_link": true
    },
    "kernelspec": {
      "name": "python3",
      "display_name": "Python 3"
    }
  },
  "cells": [
    {
      "cell_type": "markdown",
      "metadata": {
        "id": "view-in-github",
        "colab_type": "text"
      },
      "source": [
        "<a href=\"https://colab.research.google.com/github/FF12RR77/Applied-Data-Science-Capstone/blob/master/Presentation.ipynb\" target=\"_parent\"><img src=\"https://colab.research.google.com/assets/colab-badge.svg\" alt=\"Open In Colab\"/></a>"
      ]
    },
    {
      "cell_type": "markdown",
      "metadata": {
        "id": "L2_bn_Xhh6bD"
      },
      "source": [
        "#The Battle of Neighborhoods\r\n",
        "In this notebook we will be exploring City of toronto for farmers markets.\r\n",
        "\r\n",
        "##Introduction\r\n",
        "\r\n",
        "In this project we will explore Toronto city's data.\r\n",
        "Here we will try finding if someone wants to open a new farmers market in the city which location is best suited for it keeping in mind the competitors and which income group of people will be attracted most to it based on the population of the neighbourhood. \r\n",
        "\r\n",
        "\r\n",
        "##Business Problem:\r\n",
        "\r\n",
        "Toronto is the provincial capital of Ontario and the most populous city in Canada, with a population of 2,731,571 in 2016. Current to 2016, the Toronto census metropolitan area (CMA), of which the majority is within the Greater Toronto Area (GTA), held a population of 5,928,040, making it Canada's most populous CMA. Toronto is the fastest growing city in North America. and is the anchor of an urban agglomeration, known as the Golden Horseshoe in Southern Ontario, located on the northwestern shore of Lake Ontario.\r\n",
        "\r\n",
        "Toronto encompasses a geographical area formerly administered by many separate municipalities. These municipalities have each developed a distinct history and identity over the years, and their names remain in common use among Torontonians. Former municipalities include East York, Etobicoke, Forest Hill, Mimico, North York, Parkdale, Scarborough, Swansea, Weston and York. Throughout the city there exist hundreds of small neighbourhoods and some larger neighbourhoods covering a few square kilometres.\r\n",
        "\r\n",
        "Having such vast population and big geographical area, there also exists big competition between businesses. Therefore it became very challenging for stake holder or new business to decide which area they should start their business to get higher revenue with lowest possible competition.\r\n",
        "\r\n",
        "##Target Audience: \r\n",
        "All citizens and refugees in Toronto.\r\n",
        "\r\n",
        "This project try to solve the above problem by suggesting the Target Audience which are the best locality to visit new farmers market in Toronto.\r\n"
      ]
    }
  ]
}