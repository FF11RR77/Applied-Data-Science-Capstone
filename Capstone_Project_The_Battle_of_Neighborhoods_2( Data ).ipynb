{
  "nbformat": 4,
  "nbformat_minor": 0,
  "metadata": {
    "colab": {
      "name": "Capstone Project - The Battle of Neighborhoods -2( Data ).ipynb",
      "provenance": [],
      "collapsed_sections": [],
      "authorship_tag": "ABX9TyOP9LoBshh8pCZOvqk5p40c",
      "include_colab_link": true
    },
    "kernelspec": {
      "name": "python3",
      "display_name": "Python 3"
    }
  },
  "cells": [
    {
      "cell_type": "markdown",
      "metadata": {
        "id": "view-in-github",
        "colab_type": "text"
      },
      "source": [
        "<a href=\"https://colab.research.google.com/github/FF12RR77/Applied-Data-Science-Capstone/blob/master/Capstone_Project_The_Battle_of_Neighborhoods_2(%20Data%20).ipynb\" target=\"_parent\"><img src=\"https://colab.research.google.com/assets/colab-badge.svg\" alt=\"Open In Colab\"/></a>"
      ]
    },
    {
      "cell_type": "markdown",
      "metadata": {
        "id": "Mva6zWvDeDdB"
      },
      "source": [
        "\r\n",
        "#Data Requirements:\r\n",
        "\r\n",
        "####1)geospatial data for the city\r\n",
        "http://cocl.us/Geospatial_data\r\n",
        "\r\n",
        "####2)list of Toronto neighborhoods with postal codes\r\n",
        "https://en.wikipedia.org/wiki/List_of_postal_codes_of_Canada:_M\r\n",
        "\r\n",
        "####3)Foursquare API to download all venues information from all neighborhoods\r\n",
        "https://api.foursquare.com\r\n",
        "\r\n",
        "\r\n",
        "- data about neighborhoods populations\r\n",
        "- data about neighborhoods citizens average salaries\r\n",
        "- public transport hotspots\r\n",
        "- list of all farmers markets venues from all neighborhoods\r\n",
        "- list of all possible types of delivery services\r\n",
        "\r\n",
        "\r\n",
        "\r\n",
        "####4)Python libraries:\r\n",
        "\r\n",
        "- Pandas: Creating and manipulating data frames\r\n",
        "- Numpy:  Powerful n-dimensional arrays and numerical computing tools\r\n",
        "- Folium: Python visualization library would be used to visualize the neighborhoods cluster\r\n",
        "- Scikit Learn: for importing k-means clustering\r\n",
        "- JSON: Library to handle JSON files\r\n",
        "- Geocoder: To retrieve Location Data\r\n",
        "- BeautifulSoup and Requests: To scrap and library to handle http requests\r\n",
        "- Matplotlib: Python Plotting Module\r\n"
      ]
    },
    {
      "cell_type": "code",
      "metadata": {
        "id": "LtoGLx1eeNq1"
      },
      "source": [
        ""
      ],
      "execution_count": null,
      "outputs": []
    }
  ]
}
